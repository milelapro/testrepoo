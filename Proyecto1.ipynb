{
  "metadata": {
    "kernelspec": {
      "name": "python",
      "display_name": "Python (Pyodide)",
      "language": "python"
    },
    "language_info": {
      "codemirror_mode": {
        "name": "python",
        "version": 3
      },
      "file_extension": ".py",
      "mimetype": "text/x-python",
      "name": "python",
      "nbconvert_exporter": "python",
      "pygments_lexer": "ipython3",
      "version": "3.8"
    }
  },
  "nbformat_minor": 5,
  "nbformat": 4,
  "cells": [
    {
      "id": "87e658a1-8501-4719-9364-1cf0e3cf6b80",
      "cell_type": "markdown",
      "source": "# Introducción a la Ciencia de Datos\n",
      "metadata": {}
    },
    {
      "id": "20af6f92-4ca1-4f44-9180-b22835b032e4",
      "cell_type": "markdown",
      "source": "## Introducción\nLa Ciencia de Datos es un campo interdisciplinario que utiliza métodos, procesos, algoritmos y sistemas para extraer conocimiento e información de datos estructurados y no estructurados. ",
      "metadata": {}
    },
    {
      "id": "ac0c44fa-214f-437d-869b-9525d51cd996",
      "cell_type": "markdown",
      "source": "### Lenguajes de Programación utilizados en Ciencia de Datos\n\n1. Python  \n2. R  \n3. SQL  \n4. Julia  \n\n",
      "metadata": {}
    },
    {
      "id": "937fa75a-33b3-463c-81f1-66fa5759fd6c",
      "cell_type": "markdown",
      "source": "### Bibliotecas Populares de Ciencia de Datos\n\n- **Pandas** \n- **NumPy** \n- **Matplotlib**  \n",
      "metadata": {}
    },
    {
      "id": "432e135c-b52a-4676-84a1-ef0a26c4352f",
      "cell_type": "markdown",
      "source": "### Herramientas de Ciencia de Datos\n\n| Herramienta        | Tipo                    | Descripción                                    |\n|--------------------|-------------------------|------------------------------------------------|\n| Jupyter Notebook   | Entorno de desarrollo   | Celdas de código y markdown en un solo lugar. |\n| RStudio            | IDE                     | Entorno para análisis en R.                   |\n| Apache Spark       | Framework de procesamiento | Análisis de grandes volúmenes de datos.     |\n| Tableau            | Visualización           | Creación de dashboards interactivos.          |\n| Power BI           | Visualización           | Herramienta de inteligencia empresarial.      |\n",
      "metadata": {}
    },
    {
      "id": "d53df08d-fae4-4eef-80e7-19dea3090b23",
      "cell_type": "code",
      "source": "### Ejemplos de Expresiones Aritméticas\n\nSuma: 3 + 5 \nResta: 10 - 2 \nMultiplicación: 4 * 6 \nprint(Suma)\nprint(Resta)\nprint(Multiplicación)",
      "metadata": {
        "trusted": true
      },
      "outputs": [
        {
          "name": "stdout",
          "output_type": "stream",
          "text": "8\n8\n24\n"
        }
      ],
      "execution_count": 4
    },
    {
      "id": "4d5b1c2d-f500-4864-a590-1ec3ce6d878e",
      "cell_type": "code",
      "source": "### Multiplicación y suma\na = 6\nb = 3\nsuma = a + b\nmultiplicacion = a * b\n\nprint(\"Suma:\", suma)\nprint(\"Multiplicación:\", multiplicacion)\n",
      "metadata": {
        "trusted": true
      },
      "outputs": [
        {
          "name": "stdout",
          "output_type": "stream",
          "text": "Suma: 9\nMultiplicación: 18\n"
        }
      ],
      "execution_count": 5
    },
    {
      "id": "98e6fca3-7bbb-4837-ad1e-92e70bde52ec",
      "cell_type": "code",
      "source": "### Conversión de minutos a horas\nminutos = 150\nhoras = minutos / 60\nprint(\"150 minutos son\", horas, \"horas\")\n",
      "metadata": {
        "trusted": true
      },
      "outputs": [
        {
          "name": "stdout",
          "output_type": "stream",
          "text": "150 minutos son 2.5 horas\n"
        }
      ],
      "execution_count": 6
    },
    {
      "id": "5746ff03-8a76-4b35-8221-93e06eaac439",
      "cell_type": "code",
      "source": "# Lista de objetivos\nprint(\"Objetivos:\")\nprint(\"- Aprender lenguajes de Ciencia de Datos\")\nprint(\"- Usar bibliotecas y herramientas\")\nprint(\"- Realizar operaciones básicas\")\n",
      "metadata": {
        "trusted": true
      },
      "outputs": [
        {
          "name": "stdout",
          "output_type": "stream",
          "text": "Objetivos:\n- Aprender lenguajes de Ciencia de Datos\n- Usar bibliotecas y herramientas\n- Realizar operaciones básicas\n"
        }
      ],
      "execution_count": 7
    },
    {
      "id": "492d8c0a-6366-4282-b869-f6e940c1b66e",
      "cell_type": "markdown",
      "source": "**Nombre del autor**: Milenka Rosales",
      "metadata": {}
    },
    {
      "id": "09ee2d59-7ed3-4141-86f2-f484c3401578",
      "cell_type": "code",
      "source": "",
      "metadata": {
        "trusted": true
      },
      "outputs": [],
      "execution_count": null
    }
  ]
}